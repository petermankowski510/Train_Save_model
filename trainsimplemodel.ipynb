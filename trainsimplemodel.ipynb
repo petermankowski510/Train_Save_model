{
 "cells": [
  {
   "cell_type": "code",
   "execution_count": 1,
   "id": "27cdd0ce",
   "metadata": {},
   "outputs": [],
   "source": [
    "from random import randint\n",
    "TRAIN_SET_LIMIT = 1000\n",
    "TRAIN_SET_COUNT = 100\n",
    "\n",
    "TRAIN_INPUT = list()\n",
    "TRAIN_OUTPUT = list()\n",
    "for i in range(TRAIN_SET_COUNT):\n",
    "    a = randint(0, TRAIN_SET_LIMIT)\n",
    "    b = randint(0, TRAIN_SET_LIMIT)\n",
    "    c = randint(0, TRAIN_SET_LIMIT)\n",
    "    op = a + (2*b) + (3*c)\n",
    "    TRAIN_INPUT.append([a, b, c])\n",
    "    TRAIN_OUTPUT.append(op)"
   ]
  },
  {
   "cell_type": "code",
   "execution_count": 2,
   "id": "eaca2bc1",
   "metadata": {},
   "outputs": [
    {
     "name": "stdout",
     "output_type": "stream",
     "text": [
      "[[9, 729, 85], [661, 306, 477], [8, 912, 853], [413, 110, 856], [587, 588, 515], [639, 279, 120], [92, 233, 417], [494, 785, 921], [20, 774, 153], [886, 47, 308], [736, 958, 929], [880, 606, 550], [314, 576, 583], [34, 249, 863], [293, 914, 453], [688, 485, 732], [8, 708, 436], [379, 179, 979], [840, 885, 661], [859, 868, 676], [205, 545, 125], [490, 123, 985], [5, 940, 313], [959, 206, 39], [197, 728, 723], [555, 820, 342], [7, 721, 131], [658, 940, 589], [713, 157, 636], [312, 670, 480], [208, 324, 455], [761, 719, 1], [995, 288, 437], [18, 201, 615], [328, 564, 197], [566, 94, 555], [665, 940, 463], [978, 339, 706], [570, 612, 12], [988, 738, 366], [967, 683, 869], [679, 128, 634], [517, 405, 623], [796, 305, 707], [749, 898, 974], [519, 965, 388], [636, 476, 920], [311, 757, 809], [436, 594, 997], [482, 677, 763], [151, 701, 728], [242, 694, 305], [660, 994, 808], [526, 587, 518], [732, 985, 729], [519, 306, 522], [672, 915, 251], [386, 727, 539], [577, 189, 780], [744, 409, 856], [141, 344, 854], [366, 273, 396], [514, 923, 348], [980, 648, 764], [738, 500, 152], [473, 664, 620], [918, 904, 553], [489, 942, 145], [409, 314, 378], [512, 790, 369], [226, 843, 425], [250, 718, 343], [536, 765, 667], [835, 159, 412], [574, 630, 669], [727, 822, 289], [114, 507, 883], [401, 833, 876], [706, 7, 157], [25, 966, 63], [443, 532, 753], [624, 908, 986], [706, 537, 112], [878, 157, 402], [461, 109, 747], [873, 388, 396], [89, 394, 985], [647, 775, 810], [301, 502, 501], [446, 659, 771], [210, 297, 250], [192, 942, 123], [718, 58, 39], [998, 822, 548], [813, 259, 610], [215, 688, 832], [695, 620, 811], [235, 679, 402], [856, 868, 331], [912, 276, 369]]\n"
     ]
    }
   ],
   "source": [
    "print(TRAIN_INPUT)"
   ]
  },
  {
   "cell_type": "code",
   "execution_count": 3,
   "id": "fd28e746",
   "metadata": {},
   "outputs": [
    {
     "name": "stdout",
     "output_type": "stream",
     "text": [
      "[1722, 2704, 4391, 3201, 3308, 1557, 1809, 4827, 2027, 1904, 5439, 3742, 3215, 3121, 3480, 3854, 2732, 3674, 4593, 4623, 1670, 3691, 2824, 1488, 3822, 3221, 1842, 4305, 2935, 3092, 2221, 2202, 2882, 2265, 2047, 2419, 3934, 3774, 1830, 3562, 4940, 2837, 3196, 3527, 5467, 3613, 4348, 4252, 4615, 4125, 3737, 2545, 5072, 3254, 4889, 2697, 3255, 3457, 3295, 4130, 3391, 2100, 3404, 4568, 2194, 3661, 4385, 2808, 2171, 3199, 3187, 2715, 4067, 2389, 3841, 3238, 3777, 4695, 1191, 2146, 3766, 5398, 2116, 2398, 2920, 2837, 3832, 4627, 2808, 4077, 1554, 2445, 951, 4286, 3161, 4087, 4368, 2799, 3585, 2571]\n"
     ]
    }
   ],
   "source": [
    "print(TRAIN_OUTPUT)"
   ]
  },
  {
   "cell_type": "code",
   "execution_count": 4,
   "id": "a0056c56",
   "metadata": {},
   "outputs": [
    {
     "data": {
      "text/html": [
       "<style>#sk-container-id-1 {color: black;background-color: white;}#sk-container-id-1 pre{padding: 0;}#sk-container-id-1 div.sk-toggleable {background-color: white;}#sk-container-id-1 label.sk-toggleable__label {cursor: pointer;display: block;width: 100%;margin-bottom: 0;padding: 0.3em;box-sizing: border-box;text-align: center;}#sk-container-id-1 label.sk-toggleable__label-arrow:before {content: \"▸\";float: left;margin-right: 0.25em;color: #696969;}#sk-container-id-1 label.sk-toggleable__label-arrow:hover:before {color: black;}#sk-container-id-1 div.sk-estimator:hover label.sk-toggleable__label-arrow:before {color: black;}#sk-container-id-1 div.sk-toggleable__content {max-height: 0;max-width: 0;overflow: hidden;text-align: left;background-color: #f0f8ff;}#sk-container-id-1 div.sk-toggleable__content pre {margin: 0.2em;color: black;border-radius: 0.25em;background-color: #f0f8ff;}#sk-container-id-1 input.sk-toggleable__control:checked~div.sk-toggleable__content {max-height: 200px;max-width: 100%;overflow: auto;}#sk-container-id-1 input.sk-toggleable__control:checked~label.sk-toggleable__label-arrow:before {content: \"▾\";}#sk-container-id-1 div.sk-estimator input.sk-toggleable__control:checked~label.sk-toggleable__label {background-color: #d4ebff;}#sk-container-id-1 div.sk-label input.sk-toggleable__control:checked~label.sk-toggleable__label {background-color: #d4ebff;}#sk-container-id-1 input.sk-hidden--visually {border: 0;clip: rect(1px 1px 1px 1px);clip: rect(1px, 1px, 1px, 1px);height: 1px;margin: -1px;overflow: hidden;padding: 0;position: absolute;width: 1px;}#sk-container-id-1 div.sk-estimator {font-family: monospace;background-color: #f0f8ff;border: 1px dotted black;border-radius: 0.25em;box-sizing: border-box;margin-bottom: 0.5em;}#sk-container-id-1 div.sk-estimator:hover {background-color: #d4ebff;}#sk-container-id-1 div.sk-parallel-item::after {content: \"\";width: 100%;border-bottom: 1px solid gray;flex-grow: 1;}#sk-container-id-1 div.sk-label:hover label.sk-toggleable__label {background-color: #d4ebff;}#sk-container-id-1 div.sk-serial::before {content: \"\";position: absolute;border-left: 1px solid gray;box-sizing: border-box;top: 0;bottom: 0;left: 50%;z-index: 0;}#sk-container-id-1 div.sk-serial {display: flex;flex-direction: column;align-items: center;background-color: white;padding-right: 0.2em;padding-left: 0.2em;position: relative;}#sk-container-id-1 div.sk-item {position: relative;z-index: 1;}#sk-container-id-1 div.sk-parallel {display: flex;align-items: stretch;justify-content: center;background-color: white;position: relative;}#sk-container-id-1 div.sk-item::before, #sk-container-id-1 div.sk-parallel-item::before {content: \"\";position: absolute;border-left: 1px solid gray;box-sizing: border-box;top: 0;bottom: 0;left: 50%;z-index: -1;}#sk-container-id-1 div.sk-parallel-item {display: flex;flex-direction: column;z-index: 1;position: relative;background-color: white;}#sk-container-id-1 div.sk-parallel-item:first-child::after {align-self: flex-end;width: 50%;}#sk-container-id-1 div.sk-parallel-item:last-child::after {align-self: flex-start;width: 50%;}#sk-container-id-1 div.sk-parallel-item:only-child::after {width: 0;}#sk-container-id-1 div.sk-dashed-wrapped {border: 1px dashed gray;margin: 0 0.4em 0.5em 0.4em;box-sizing: border-box;padding-bottom: 0.4em;background-color: white;}#sk-container-id-1 div.sk-label label {font-family: monospace;font-weight: bold;display: inline-block;line-height: 1.2em;}#sk-container-id-1 div.sk-label-container {text-align: center;}#sk-container-id-1 div.sk-container {/* jupyter's `normalize.less` sets `[hidden] { display: none; }` but bootstrap.min.css set `[hidden] { display: none !important; }` so we also need the `!important` here to be able to override the default hidden behavior on the sphinx rendered scikit-learn.org. See: https://github.com/scikit-learn/scikit-learn/issues/21755 */display: inline-block !important;position: relative;}#sk-container-id-1 div.sk-text-repr-fallback {display: none;}</style><div id=\"sk-container-id-1\" class=\"sk-top-container\"><div class=\"sk-text-repr-fallback\"><pre>LinearRegression(n_jobs=-1)</pre><b>In a Jupyter environment, please rerun this cell to show the HTML representation or trust the notebook. <br />On GitHub, the HTML representation is unable to render, please try loading this page with nbviewer.org.</b></div><div class=\"sk-container\" hidden><div class=\"sk-item\"><div class=\"sk-estimator sk-toggleable\"><input class=\"sk-toggleable__control sk-hidden--visually\" id=\"sk-estimator-id-1\" type=\"checkbox\" checked><label for=\"sk-estimator-id-1\" class=\"sk-toggleable__label sk-toggleable__label-arrow\">LinearRegression</label><div class=\"sk-toggleable__content\"><pre>LinearRegression(n_jobs=-1)</pre></div></div></div></div></div>"
      ],
      "text/plain": [
       "LinearRegression(n_jobs=-1)"
      ]
     },
     "execution_count": 4,
     "metadata": {},
     "output_type": "execute_result"
    }
   ],
   "source": [
    "from sklearn.linear_model import LinearRegression\n",
    "\n",
    "predictor = LinearRegression(n_jobs=-1)\n",
    "predictor.fit(X=TRAIN_INPUT, y=TRAIN_OUTPUT)"
   ]
  },
  {
   "cell_type": "code",
   "execution_count": 5,
   "id": "ddfe3eb5",
   "metadata": {},
   "outputs": [
    {
     "name": "stdout",
     "output_type": "stream",
     "text": [
      "Outcome : [4391.]\n",
      "Coefficients : [1. 2. 3.]\n"
     ]
    }
   ],
   "source": [
    "X_TEST = [[8, 912, 853]]\n",
    "outcome = predictor.predict(X=X_TEST)\n",
    "coefficients = predictor.coef_\n",
    "\n",
    "print('Outcome : {}\\nCoefficients : {}'.format(outcome, coefficients))"
   ]
  },
  {
   "cell_type": "code",
   "execution_count": 6,
   "id": "ea5016a1",
   "metadata": {},
   "outputs": [],
   "source": [
    "\"\"\"The saving of data is called Serialization, where we store an object as a stream of bytes to save on a disk. \n",
    "Loading or restoring the model is called Deserialization, where we restore the stream of bytes from the disk \n",
    "back to the Python object.\"\"\"\n",
    "import pickle\n",
    "pkl_filename = \"pickle_model.pkl\"\n",
    "\n",
    "with open(pkl_filename, 'wb') as file:\n",
    "    pickle.dump(predictor, file)\n",
    "    "
   ]
  },
  {
   "cell_type": "code",
   "execution_count": 7,
   "id": "1623f3d7",
   "metadata": {},
   "outputs": [],
   "source": [
    "\"\"\"...sometime later\"\"\"\n",
    "with open(pkl_filename, 'rb') as new_file:\n",
    "    pickle_model=pickle.load(new_file)\n",
    "    \n",
    "\"\"\"Calculate results\"\"\"\n",
    "score = pickle_model.score(TRAIN_INPUT, TRAIN_OUTPUT)"
   ]
  },
  {
   "cell_type": "code",
   "execution_count": 8,
   "id": "edd09c0c",
   "metadata": {},
   "outputs": [
    {
     "name": "stdout",
     "output_type": "stream",
     "text": [
      "Test score: 100.00 %\n"
     ]
    }
   ],
   "source": [
    "print(\"Test score: {0:.2f} %\".format(100*score))"
   ]
  },
  {
   "cell_type": "code",
   "execution_count": 9,
   "id": "cf9b7df0",
   "metadata": {},
   "outputs": [
    {
     "data": {
      "text/plain": [
       "array([4391.])"
      ]
     },
     "execution_count": 9,
     "metadata": {},
     "output_type": "execute_result"
    }
   ],
   "source": [
    "#X_PREDICT = [[10, 20, 30]]\n",
    "pickle_model.predict(X_TEST)\n",
    "                           "
   ]
  },
  {
   "cell_type": "code",
   "execution_count": null,
   "id": "694698e9",
   "metadata": {},
   "outputs": [],
   "source": []
  }
 ],
 "metadata": {
  "kernelspec": {
   "display_name": "Python 3 (ipykernel)",
   "language": "python",
   "name": "python3"
  },
  "language_info": {
   "codemirror_mode": {
    "name": "ipython",
    "version": 3
   },
   "file_extension": ".py",
   "mimetype": "text/x-python",
   "name": "python",
   "nbconvert_exporter": "python",
   "pygments_lexer": "ipython3",
   "version": "3.8.15"
  }
 },
 "nbformat": 4,
 "nbformat_minor": 5
}
